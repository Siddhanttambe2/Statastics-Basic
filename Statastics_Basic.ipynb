{
  "nbformat": 4,
  "nbformat_minor": 0,
  "metadata": {
    "colab": {
      "provenance": [],
      "authorship_tag": "ABX9TyOqL8Ij6XjzGaJEWg4mIZCz",
      "include_colab_link": true
    },
    "kernelspec": {
      "name": "python3",
      "display_name": "Python 3"
    },
    "language_info": {
      "name": "python"
    }
  },
  "cells": [
    {
      "cell_type": "markdown",
      "metadata": {
        "id": "view-in-github",
        "colab_type": "text"
      },
      "source": [
        "<a href=\"https://colab.research.google.com/github/Siddhanttambe2/Statastics-Basic/blob/main/Statastics_Basic.ipynb\" target=\"_parent\"><img src=\"https://colab.research.google.com/assets/colab-badge.svg\" alt=\"Open In Colab\"/></a>"
      ]
    },
    {
      "cell_type": "markdown",
      "source": [
        "Assignment : Statastics Basic"
      ],
      "metadata": {
        "id": "it_OARc58G3H"
      }
    },
    {
      "cell_type": "code",
      "execution_count": 2,
      "metadata": {
        "id": "6SNdaBa9zw5F"
      },
      "outputs": [],
      "source": [
        "#Q1) Explain the different types of data (qualitative and quantitative) and provide examples of each. Discuss nominal, ordinal, interval, and ratio scales.\n"
      ]
    },
    {
      "cell_type": "markdown",
      "source": [
        "1)Qualitative data (also known as categorical data) describes attributes or qualities. For example, colors  or types of vehicles (cars, trucks). It can be further divided into:\n",
        "\n",
        "a)Nominal scale: This type of data labels variables without any specific order (e.g., gender, blood type).\n",
        "\n",
        "b)Ordinal scale: Here, data is ranked in a meaningful order, but the intervals between the ranks are not equal (e.g., satisfaction ratings like \"good,\" \"better,\" \"best\").\n",
        "\n",
        "2)Quantitative data refers to numerical data that represents quantities. It is divided into:\n",
        "\n",
        "a)Interval scale: Quantitative data with meaningful intervals, but no true zero point (e.g., temperature in Celsius).\n",
        "\n",
        "b)Ratio scale: This has all the properties of the interval scale, with the addition of a meaningful zero point (e.g., height, weight).\n"
      ],
      "metadata": {
        "id": "_LgDo-Di0-UY"
      }
    },
    {
      "cell_type": "code",
      "source": [
        "#Q2) What are the measures of central tendency, and when should you use each? Discuss the mean, median, and mode with examples and situations where each is appropriate."
      ],
      "metadata": {
        "id": "OJ63jRbp1B28"
      },
      "execution_count": 3,
      "outputs": []
    },
    {
      "cell_type": "markdown",
      "source": [
        "Mean: This is the arithmetic average of a dataset. It’s useful for datasets without extreme outliers (e.g., calculating the average test score of a class).\n",
        "\n",
        "Median: The physical middle value in a dataset when arranged in order. It is useful when the data contains outliers (e.g., median household income).\n",
        "\n",
        "Mode: The value that appears most frequently in a dataset. It's used for categorical data or for identifying the most common value (e.g., most popular car color)."
      ],
      "metadata": {
        "id": "dazbT7l016ew"
      }
    },
    {
      "cell_type": "code",
      "source": [
        "#Q3) Explain the concept of dispersion. How do variance and standard deviation measure the spread of data?"
      ],
      "metadata": {
        "id": "Bqz94iFQ2JDh"
      },
      "execution_count": 4,
      "outputs": []
    },
    {
      "cell_type": "markdown",
      "source": [
        "Dispersion refers to how spread out the values in a dataset are. It helps in understanding the variability within the dataset.\n",
        "\n",
        "Variance: It measures the average squared deviation from the mean. A higher variance indicates a wider spread.\n",
        "\n",
        "Standard deviation: It’s the square root of variance and provides a measure of spread in the same units as the data. Standard deviation is more interpretable because it is in the same units as the original data."
      ],
      "metadata": {
        "id": "jhhUCBot2SfO"
      }
    },
    {
      "cell_type": "code",
      "source": [
        "#Q4) What is a box plot, and what can it tell you about the distribution of data?"
      ],
      "metadata": {
        "id": "sDiQf_1R2eRs"
      },
      "execution_count": 5,
      "outputs": []
    },
    {
      "cell_type": "markdown",
      "source": [
        "A box plot is a graphical representation of data that shows the distribution's five-number summary: minimum, first quartile (Q1), median, third quartile (Q3), and maximum. It can indicate the spread, center, and presence of outliers in a dataset. The length of the box shows the interquartile range (IQR), and the whiskers represent the range of the data. Outliers are often shown as individual points."
      ],
      "metadata": {
        "id": "lP-uuZzU2lmR"
      }
    },
    {
      "cell_type": "code",
      "source": [
        "#Q5) Discuss the role of random sampling in making inferences about populations."
      ],
      "metadata": {
        "id": "NUYIDqyW2vS8"
      },
      "execution_count": null,
      "outputs": []
    },
    {
      "cell_type": "markdown",
      "source": [
        "Random sampling ensures that every item in the population has an equal chance of being selected. This helps in reducing bias and allows the sample to be representative of the population. Random sampling enables inferences about the entire population based on the sample, facilitating generalizations and decision-making.\n",
        "It has a disadvantage as sometime small items gets exclude\n",
        "e.g. if we want to take random sample of indian population then it might possible that it will exclude the small states like sikkim\n"
      ],
      "metadata": {
        "id": "rRL6iJ9720Oy"
      }
    },
    {
      "cell_type": "code",
      "source": [
        "#Q6) Explain the concept of skewness and its types. How does skewness affect the interpretation of data?"
      ],
      "metadata": {
        "id": "YEQ8t1cL3iJl"
      },
      "execution_count": null,
      "outputs": []
    },
    {
      "cell_type": "markdown",
      "source": [
        "Skewness measures the asymmetry of the distribution of data.\n",
        "\n",
        "Positive skewness: The tail on the right side is longer, indicating that most values are concentrated on the left. mean>median>mode\n",
        "\n",
        "Negative skewness: The tail on the left side is longer, with most values concentrated on the right.mean<median<mode\n",
        "\n",
        "Skewness affects the interpretation of data as it indicates whether data is symmetrically distributed or has a bias towards one side. This affects the mean and median, as they deviate in skewed distributions."
      ],
      "metadata": {
        "id": "xKPVgqHi3rco"
      }
    },
    {
      "cell_type": "code",
      "source": [
        "#Q7)What is the interquartile range (IQR), and how is it used to detect outliers?"
      ],
      "metadata": {
        "id": "vDbSghGM4RwR"
      },
      "execution_count": 6,
      "outputs": []
    },
    {
      "cell_type": "markdown",
      "source": [
        "The interquartile range (IQR) is the difference between the third quartile (Q3) and the first quartile (Q1) and represents the middle 50% of the data. To detect outliers, data points that are below    Q1−1.5×IQR or above\n",
        "Q3+1.5×IQR are considered outliers."
      ],
      "metadata": {
        "id": "_Z0muQfj4Y_i"
      }
    },
    {
      "cell_type": "code",
      "source": [
        "#Q8)Discuss the conditions under which the binomial distribution is used."
      ],
      "metadata": {
        "id": "DY5ScHdV4huv"
      },
      "execution_count": null,
      "outputs": []
    },
    {
      "cell_type": "markdown",
      "source": [
        "There are a fixed number of trials (n).\n",
        "\n",
        "Each trial has two possible outcomes (success or failure).\n",
        "\n",
        "The probability of success (p) remains constant across trials.\n",
        "\n",
        "The trials are independent."
      ],
      "metadata": {
        "id": "_e4-1VPn5KdJ"
      }
    },
    {
      "cell_type": "code",
      "source": [
        "#Q9)Explain the properties of the normal distribution and the empirical rule (68-95-99.7 rule)."
      ],
      "metadata": {
        "id": "v3ho73Ys5Qr3"
      },
      "execution_count": null,
      "outputs": []
    },
    {
      "cell_type": "markdown",
      "source": [
        "A normal distribution is a bell-shaped curve where the mean, median, and mode are equal, and it is symmetric about the mean.\n",
        "\n",
        "The empirical rule states that:\n",
        "\n",
        "68% of data falls within one standard deviation of the mean.\n",
        "95% falls within two standard deviations.\n",
        "99.7% falls within three standard deviations.\n"
      ],
      "metadata": {
        "id": "4kCfgMgM5X14"
      }
    },
    {
      "cell_type": "code",
      "source": [
        "#Q10) Provide a real-life example of a Poisson process and calculate the probability for a specific event."
      ],
      "metadata": {
        "id": "LFbAQL9w5oxH"
      },
      "execution_count": 7,
      "outputs": []
    },
    {
      "cell_type": "markdown",
      "source": [
        "Car Accidents\n",
        "\n",
        "Let's say the average number of car accidents on this highway section is 2 per day. We want to calculate the probability of exactly 3 accidents occurring on a given day.\n",
        "\n",
        "P(X = x) = (λ^x * e^(-λ)) / x!\n",
        "\n",
        "λ = average rate of events (2 accidents)\n",
        "x = number of events we want to calculate the probability for (3 accidents)\n",
        "e = Euler's number (approximately 2.71828)\n",
        "x! = x factorial\n",
        "P(X = 3) = (2^3 * e^(-2)) / 3!\n",
        "         = (8 * e^(-2)) / 6\n",
        "         ≈ 0.2381"
      ],
      "metadata": {
        "id": "8cwPAmMk5ubK"
      }
    },
    {
      "cell_type": "code",
      "source": [
        "#Q11) Explain what a random variable is and differentiate between discrete and continuous random variables."
      ],
      "metadata": {
        "id": "RXFTa7o35rmZ"
      },
      "execution_count": 8,
      "outputs": []
    },
    {
      "cell_type": "markdown",
      "source": [
        " A random variable represents the outcomes of a random phenomenon. It can be either:\n",
        "\n",
        "Discrete: Takes on a countable number of values (e.g., the number of heads in coin flips).\n",
        "\n",
        "Continuous: Takes on an infinite number of possible values within a range (e.g., the height of students)."
      ],
      "metadata": {
        "id": "RxD22mYT7KjD"
      }
    },
    {
      "cell_type": "code",
      "source": [
        "#Q12) Provide an example dataset, calculate both covariance and correlation, and interpret the results"
      ],
      "metadata": {
        "id": "oq3Cb0Zb7QG2"
      },
      "execution_count": 9,
      "outputs": []
    },
    {
      "cell_type": "markdown",
      "source": [
        "Covariance and correlation measure the relationship between two variables. Covariance indicates the direction of the relationship, while correlation measures both the strength and direction (on a scale from -1 to 1).\n",
        "\n",
        "Example dataset:\n",
        "\n",
        "Variable X: [1, 2, 3, 4, 5]\n",
        "\n",
        "Variable Y: [2, 4, 6, 8, 10]\n",
        "\n",
        "Covariance is calculated as 2.5.\n",
        "\n",
        "Correlation is 1, indicating  positive linear relationship between X and Y."
      ],
      "metadata": {
        "id": "91Tm4Jm87aV4"
      }
    },
    {
      "cell_type": "code",
      "source": [],
      "metadata": {
        "id": "yTBp7Rxx7WcM"
      },
      "execution_count": null,
      "outputs": []
    }
  ]
}